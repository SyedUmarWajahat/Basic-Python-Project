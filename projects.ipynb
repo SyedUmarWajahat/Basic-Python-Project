{
  "nbformat": 4,
  "nbformat_minor": 0,
  "metadata": {
    "colab": {
      "provenance": [],
      "authorship_tag": "ABX9TyOYHwIFbl3A7kCnW5bE73rN",
      "include_colab_link": true
    },
    "kernelspec": {
      "name": "python3",
      "display_name": "Python 3"
    },
    "language_info": {
      "name": "python"
    }
  },
  "cells": [
    {
      "cell_type": "markdown",
      "metadata": {
        "id": "view-in-github",
        "colab_type": "text"
      },
      "source": [
        "<a href=\"https://colab.research.google.com/github/SyedUmarWajahat/Basic-Python-Project/blob/main/projects.ipynb\" target=\"_parent\"><img src=\"https://colab.research.google.com/assets/colab-badge.svg\" alt=\"Open In Colab\"/></a>"
      ]
    },
    {
      "cell_type": "markdown",
      "source": [
        "## 1.joke bot\n",
        "Write a simple joke bot. The bot starts by asking the user what they want. However, your program will only respond to one response: Joke.\n",
        "\n",
        "If the user enters Joke then we will print out a single joke. Each time the joke is always the same:\n",
        "\n",
        "Here is a joke for you! Panaversity GPT - Sophia is heading out to the grocery store. A programmer tells her: get a liter of milk, and if they have eggs, get 12. Sophia returns with 13 liters of milk. The programmer asks why and Sophia replies: 'because they had eggs'\n",
        "\n",
        "If the user enters anything else we print out:\n",
        "\n",
        "Sorry I only tell jokes\n",
        "\n",
        "You should use the three constants:\n",
        "\n",
        "PROMPT JOKE SORRY\n",
        "\n",
        "which contain the strings for the prompt asked to the user, the joke to print out if the user enters Joke and the sorry message if the user enters anything else."
      ],
      "metadata": {
        "id": "p6Q1v8gX6SqH"
      }
    },
    {
      "cell_type": "code",
      "source": [
        "# constants\n",
        "PROMPT: str = \"What do you want? \"\n",
        "JOKE: str = \"Why did the scarecrow win an award? Because he was outstanding in his field!\"\n",
        "\n",
        "# Define a Function\n",
        "def joke_bot():\n",
        "  # 1. get User Input\n",
        "  user_input = input(PROMPT)\n",
        "  print(user_input)\n",
        "\n",
        "  # 2. if else statements\n",
        "  # Case ?? Joke joke\n",
        "  if user_input.lower() == \"joke\":\n",
        "       print(JOKE)\n",
        "  else:\n",
        "       print(\"sorry, I only tell jokes.\")\n",
        "\n",
        "joke_bot()\n",
        "\n",
        "\n"
      ],
      "metadata": {
        "id": "D54xCzy85pNY",
        "colab": {
          "base_uri": "https://localhost:8080/"
        },
        "outputId": "15bab303-7237-40fe-aaed-80c0d78d1336"
      },
      "execution_count": 1,
      "outputs": [
        {
          "output_type": "stream",
          "name": "stdout",
          "text": [
            "What do you want? joke\n",
            "joke\n",
            "Why did the scarecrow win an award? Because he was outstanding in his field!\n"
          ]
        }
      ]
    },
    {
      "cell_type": "markdown",
      "source": [
        "## 2. Double it\n",
        "Write a program that asks a user to enter a number. Your program will then double that number and print out the result. It will repeat that process until the value is 100 or greater.\n",
        "\n",
        "For example if the user enters the number 2 you would then print:\n",
        "\n",
        "4 8 16 32 64 128\n",
        "\n",
        "Note that:\n",
        "\n",
        "2 doubled is 4\n",
        "\n",
        "4 doubled is 8\n",
        "\n",
        "8 doubled is 16\n",
        "\n",
        "and so on.\n",
        "\n",
        "We stop at 128 because that value is greater than 100."
      ],
      "metadata": {
        "id": "ebFtE1bLCla3"
      }
    },
    {
      "cell_type": "code",
      "source": [
        "def double_it():\n",
        "  # 1. Get User Input & Type Cast\n",
        "  user_input = int(input(\"Enter a number: \"))\n",
        "\n",
        "  # 2. Loop: While & For\n",
        "  while user_input <= 100:\n",
        "    user_input = 2 * user_input\n",
        "    print(user_input, end=\" \")\n",
        "\n",
        "double_it()\n"
      ],
      "metadata": {
        "id": "bYyIvnM7DCPJ",
        "colab": {
          "base_uri": "https://localhost:8080/"
        },
        "outputId": "1a99c7d8-0d77-4987-9193-3a62ab784b72"
      },
      "execution_count": null,
      "outputs": [
        {
          "output_type": "stream",
          "name": "stdout",
          "text": [
            "Enter a number: 2\n",
            "4 8 16 32 64 128 "
          ]
        }
      ]
    },
    {
      "cell_type": "markdown",
      "source": [
        " ## 3. TakeOff Counter\n",
        "\n",
        "Write a program that prints out the calls for a spaceship that is about to launch. Countdown from 10 to 1 and then output Liftoff!\n",
        "\n",
        "Here's a sample run of the program:\n",
        "\n",
        "10 9 8 7 6 5 4 3 2 1 Liftoff!\n",
        "\n",
        "There are many ways to solve this problem. One approach is to use a for loop, and to use the for loop variable i. Recall that i will keep track of how many times the for loop has completed executing its body. As an example this code:\n"
      ],
      "metadata": {
        "id": "xwikKPtD3HJG"
      }
    },
    {
      "cell_type": "code",
      "source": [
        "# loop: For\n",
        "# list or rang\n",
        "def countdown1():\n",
        "  for i in range(10):\n",
        "    print(i, end=\" \")\n",
        "  print(\"Liftoff!\")\n",
        "\n",
        "countdown1()\n",
        "\n",
        "# List and For Loop\n",
        "number_list: list[int] = [10, 9, 8, 7, 6, 5, 4, 3, 2, 1]\n",
        "def countdown2():\n",
        "  for i in number_list:\n",
        "    print(i, end=\" \")\n",
        "  print(\"Liftoff!\")\n",
        "\n",
        "countdown2()"
      ],
      "metadata": {
        "id": "jCfeh2Yg3ZMz",
        "colab": {
          "base_uri": "https://localhost:8080/"
        },
        "outputId": "3885e896-23f5-45ab-a137-ea840587124a"
      },
      "execution_count": null,
      "outputs": [
        {
          "output_type": "stream",
          "name": "stdout",
          "text": [
            "0 1 2 3 4 5 6 7 8 9 Liftoff!\n",
            "10 9 8 7 6 5 4 3 2 1 Liftoff!\n"
          ]
        }
      ]
    },
    {
      "cell_type": "markdown",
      "source": [
        "## 4.  Guess My Number\n",
        "\n",
        "\n",
        "I am thinking of a number between 0 and 99... Enter a guess: 50 Your guess is too high\n",
        "\n",
        "Enter a new number: 25 Your guess is too low\n",
        "\n",
        "Enter a new number: 40 Your guess is too low\n",
        "\n",
        "Enter a new number: 45 Your guess is too low\n",
        "\n",
        "Enter a new number: 48 Congrats! The number was: 48"
      ],
      "metadata": {
        "id": "CBIZ5XKkb60l"
      }
    },
    {
      "cell_type": "code",
      "source": [
        "# Let Computer Generate and save a Number using random\n",
        "from random import randint\n",
        "\n",
        "random_generated_number: int  = randint(1, 5)\n",
        "\n",
        "allowed_attempts: int = 5\n",
        "\n",
        "user_attempt: int = 0\n",
        "\n",
        "# 2. While: Condition with break statement\n",
        "while True:\n",
        "  print(f\"Attempts Left: {allowed_attempts - user_attempt}\")\n",
        "\n",
        "  if(user_attempt == allowed_attempts):\n",
        "    print(\"Game Ovre\")\n",
        "    break\n",
        "\n",
        "  # 3. Get User Number\n",
        "  user_attempt: int = int(input(\"Enter a number\"))\n",
        "  user_attempt +=1\n",
        "\n",
        "  # 4. If Statement:\n",
        "    # elifs only Comparision\n",
        "  if user_attempt ==  random_generated_number:\n",
        "    print(f\"Congrats! The number was: {random_generated_number}\")\n",
        "    break\n",
        "  if user_attempt < random_generated_number:\n",
        "    print(\"Too low\")\n",
        "  elif user_attempt > random_generated_number:\n",
        "    print(\"Too high\")\n",
        "\n",
        "  else:\n",
        "    print(\"Invalid Input\")\n",
        "\n",
        "\n",
        "\n"
      ],
      "metadata": {
        "colab": {
          "base_uri": "https://localhost:8080/"
        },
        "id": "pOW-JNcaafkf",
        "outputId": "892cc4bc-cb3e-4edc-b521-8b022aab49ae"
      },
      "execution_count": null,
      "outputs": [
        {
          "output_type": "stream",
          "name": "stdout",
          "text": [
            "Attempts Left: 5\n",
            "Enter a number9\n",
            "Too high\n",
            "Attempts Left: -5\n",
            "Enter a number1\n",
            "Too high\n",
            "Attempts Left: 3\n",
            "Enter a number4\n",
            "Too high\n",
            "Attempts Left: 0\n",
            "Game Ovre\n"
          ]
        }
      ]
    },
    {
      "cell_type": "markdown",
      "source": [],
      "metadata": {
        "id": "If3DzVwGH0lA"
      }
    },
    {
      "cell_type": "markdown",
      "source": [
        "## 5. Ramdom Numbers\n",
        "\n",
        "Print 10 random numbers in the range 1 to 100.\n",
        "\n",
        "Here is an example run:\n",
        "\n",
        "45 79 61 47 52 10 16 83 19 12\n",
        "\n",
        "Each time you run your program you should get different numbers\n",
        "\n",
        "81 76 70 1 27 63 96 100 32 92\n",
        "\n",
        "Recall that the python random library has a function randint which returns an integer in the range set by the parameters (inclusive). For example this call would produce a random integer between 1 and 6, which could include 1 and could include 6:\n",
        "\n",
        "value = random.randint(1, 6)"
      ],
      "metadata": {
        "id": "7EKNPjV2H2u0"
      }
    },
    {
      "cell_type": "code",
      "source": [
        "MIN_NUMBER: int = 1\n",
        "MAX_NUMBER: int = 101 # added MAX_NUMBER\n",
        "N_RANDOM_NUMBERS: int = 10\n",
        "\n",
        "import numpy as np\n",
        "\n",
        "number_list = np.random.randint(MIN_NUMBER, MAX_NUMBER, N_RANDOM_NUMBERS)\n",
        "\n",
        "print(*number_list)\n",
        "\n"
      ],
      "metadata": {
        "colab": {
          "base_uri": "https://localhost:8080/"
        },
        "id": "Emn4dcZzSN25",
        "outputId": "aa0060d5-c360-4fc6-a588-89161730d90e"
      },
      "execution_count": null,
      "outputs": [
        {
          "output_type": "stream",
          "name": "stdout",
          "text": [
            "14 34 31 82 83 16 44 3 77 31\n"
          ]
        }
      ]
    }
  ]
}